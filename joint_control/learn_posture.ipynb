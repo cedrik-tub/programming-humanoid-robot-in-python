{
 "cells": [
  {
   "cell_type": "markdown",
   "metadata": {},
   "source": [
    "# Learn Posture"
   ]
  },
  {
   "cell_type": "markdown",
   "metadata": {},
   "source": [
    "use machine learning to recognize robot's posture (following the example in [scikit-learn-intro.ipynb](./scikit-learn-intro.ipynb) )"
   ]
  },
  {
   "cell_type": "markdown",
   "metadata": {},
   "source": [
    "## 1. Data collection\n",
    "\n",
    "We have colleceted data before, you need to add new data if you want to add new posture.\n",
    "\n",
    "* the dateset are in *robot_pose_data* folder\n",
    "* each file contains the data belongs to this posture, e.g. the data in *Back* file are collected when robot was in \"Back\" posture\n",
    "* the data file can be load by ```pickle```, e.g. ```pickle.load(open('Back', 'rb'))```, the data is a list of feature data\n",
    "* the features (e.g. each row of the data) are ['LHipYawPitch', 'LHipRoll', 'LHipPitch', 'LKneePitch', 'RHipYawPitch', 'RHipRoll', 'RHipPitch', 'RKneePitch', 'AngleX', 'AngleY'], where 'AngleX' and 'AngleY' are body angle (e.g. ```Perception.imu```) and others are joint angles."
   ]
  },
  {
   "cell_type": "markdown",
   "metadata": {},
   "source": [
    "## 2. Data preprocessing"
   ]
  },
  {
   "cell_type": "code",
   "execution_count": 1,
   "metadata": {
    "collapsed": false,
    "jupyter": {
     "outputs_hidden": false
    }
   },
   "outputs": [],
   "source": [
    "%matplotlib inline\n",
    "import pickle\n",
    "from os import listdir, path\n",
    "import numpy as np\n",
    "import matplotlib.pyplot as plt # Expliziter Import für Plotting-Funktionen\n",
    "from sklearn import svm, metrics\n",
    "\n",
    "ROBOT_POSE_DATA_DIR = 'robot_pose_data_converted' "
   ]
  },
  {
   "cell_type": "code",
   "execution_count": 2,
   "metadata": {
    "collapsed": false,
    "jupyter": {
     "outputs_hidden": false
    }
   },
   "outputs": [
    {
     "name": "stdout",
     "output_type": "stream",
     "text": [
      "['Back', 'Belly', 'Crouch', 'Frog', 'HeadBack', 'Knee', 'Left', 'Right', 'Sit', 'Stand', 'StandInit']\n"
     ]
    }
   ],
   "source": [
    "classes = listdir(ROBOT_POSE_DATA_DIR)\n",
    "print(classes)"
   ]
  },
  {
   "cell_type": "code",
   "execution_count": 3,
   "metadata": {},
   "outputs": [],
   "source": [
    "# In der Zelle, wo load_pose_data(i) definiert wird (in deinem Python 3 Notebook):\n",
    "import pickle # Stelle sicher, dass es importiert ist\n",
    "from os import path # Stelle sicher, dass es importiert ist\n",
    "# numpy as np sollte auch schon importiert sein\n",
    "\n",
    "def load_pose_data(i):\n",
    "    '''load pose data from file'''\n",
    "    data_for_class = []\n",
    "    target_for_class = []\n",
    "    \n",
    "    # ROBOT_POSE_DATA_DIR und classes sollten global im Notebook definiert sein\n",
    "    filename = path.join(ROBOT_POSE_DATA_DIR, classes[i]) \n",
    "    \n",
    "    try:\n",
    "        with open(filename, 'rb') as f:\n",
    "            # Mit protocol=2 gespeicherte Dateien sollten ohne explizites Encoding lesbar sein.\n",
    "            # Falls es doch Probleme gibt, könnte man encoding='latin1' oder 'bytes' probieren,\n",
    "            # aber es sollte nicht nötig sein.\n",
    "            loaded_feature_vectors = pickle.load(f) \n",
    "        \n",
    "        # Überprüfe, ob die geladenen Daten das erwartete Format haben (Liste von Listen)\n",
    "        if not isinstance(loaded_feature_vectors, list):\n",
    "            print(f\"WARNUNG: Daten in {filename} sind keine Liste. Typ: {type(loaded_feature_vectors)}\")\n",
    "            return [], []\n",
    "        if loaded_feature_vectors and not all(isinstance(item, (list, np.ndarray)) for item in loaded_feature_vectors):\n",
    "             # Erlaube auch np.ndarray als innere Elemente, falls das vorkommt\n",
    "            print(f\"WARNUNG: Daten in {filename} sind keine Liste von Listen/np.ndarrays. Erstes Element Typ: {type(loaded_feature_vectors[0])}\")\n",
    "            return [], []\n",
    "\n",
    "        data_for_class.extend(loaded_feature_vectors)\n",
    "        target_for_class.extend([i] * len(loaded_feature_vectors))\n",
    "        \n",
    "    except FileNotFoundError:\n",
    "        print(f\"FEHLER: Datei {filename} nicht gefunden.\")\n",
    "        return [], []\n",
    "    except pickle.UnpicklingError as e_pickle:\n",
    "        print(f\"FEHLER (pickle.UnpicklingError) beim Laden der konvertierten Datei {filename}: {e_pickle}\")\n",
    "        return [], [] \n",
    "    except Exception as e: \n",
    "        print(f\"ALLGEMEINER FEHLER beim Laden der konvertierten Datei {filename}: {type(e).__name__} - {e}\")\n",
    "        return [], [] \n",
    "        \n",
    "    return data_for_class, target_for_class"
   ]
  },
  {
   "cell_type": "code",
   "execution_count": 4,
   "metadata": {
    "collapsed": false,
    "jupyter": {
     "outputs_hidden": false
    }
   },
   "outputs": [
    {
     "name": "stdout",
     "output_type": "stream",
     "text": [
      "DEBUG: Klassen, die verarbeitet werden sollen: ['Back', 'Belly', 'Crouch', 'Frog', 'HeadBack', 'Knee', 'Left', 'Right', 'Sit', 'Stand', 'StandInit']\n",
      "DEBUG: Gesamtzahl der gültig gesammelten Datenpunkte: 222\n",
      "Erfolgreich in NumPy-Arrays konvertiert. Shape all_data_np: (222, 10), Shape all_target_np: (222,)\n",
      "Gesamtzahl der Datenpunkte im NumPy-Array: 222\n",
      "Länge von all_data (sollte NumPy sein): 222\n",
      "Länge von all_target (sollte NumPy sein): 222\n"
     ]
    }
   ],
   "source": [
    "# In der Zelle, die mit \"# load all the data\" beginnt:\n",
    "all_data = []\n",
    "all_target = []\n",
    "\n",
    "print(f\"DEBUG: Klassen, die verarbeitet werden sollen: {classes}\") \n",
    "\n",
    "for i in range(len(classes)):\n",
    "    current_class_name = classes[i]\n",
    "    # print(f\"DEBUG: Verarbeite Klasse: {current_class_name} (Index {i})\")\n",
    "    \n",
    "    data_i, target_i = load_pose_data(i) # Ruft die überarbeitete Funktion auf\n",
    "    \n",
    "    if data_i: # Nur hinzufügen, wenn Daten erfolgreich geladen und verarbeitet wurden\n",
    "        # print(f\"DEBUG: Für {current_class_name} wurden {len(data_i)} gültige Samples hinzugefügt.\")\n",
    "        all_data.extend(data_i)\n",
    "        all_target.extend(target_i)\n",
    "    else:\n",
    "        print(f\"WARNUNG: Keine Daten für Klasse {current_class_name} (Index {i}) geladen oder Daten waren ungültig.\")\n",
    "\n",
    "print(f\"DEBUG: Gesamtzahl der gültig gesammelten Datenpunkte: {len(all_data)}\")\n",
    "\n",
    "if not all_data:\n",
    "    print(\"FEHLER: Es konnten keine Daten erfolgreich aus den Pickle-Dateien geladen werden. `all_data` ist leer.\")\n",
    "    print(\"Bitte überprüfe die Fehlermeldungen oben für jede einzelne Datei.\")\n",
    "    # Du könntest hier das Notebook stoppen, da ohne Daten kein Training möglich ist.\n",
    "    # raise RuntimeError(\"Keine Trainingsdaten geladen.\")\n",
    "else:\n",
    "    try:\n",
    "        # Konvertiere die Listen in numpy arrays, da scikit-learn diese erwartet\n",
    "        all_data_np = np.array(all_data, dtype=float) # Explizit dtype=float\n",
    "        all_target_np = np.array(all_target) # Targets sollten Integer sein\n",
    "        \n",
    "        print(f\"Erfolgreich in NumPy-Arrays konvertiert. Shape all_data_np: {all_data_np.shape}, Shape all_target_np: {all_target_np.shape}\")\n",
    "        print(f\"Gesamtzahl der Datenpunkte im NumPy-Array: {len(all_data_np)}\")\n",
    "\n",
    "        # Weise die NumPy-Arrays den ursprünglichen Variablennamen zu, wenn erfolgreich\n",
    "        all_data = all_data_np\n",
    "        all_target = all_target_np\n",
    "\n",
    "    except ValueError as ve:\n",
    "        print(f\"FEHLER bei der Konvertierung der gesammelten Daten zu NumPy-Arrays: {ve}\")\n",
    "        print(\"Dies deutet darauf hin, dass trotz der Ladeversuche immer noch nicht-numerische Daten in `all_data` sind.\")\n",
    "        # Debugging-Schleife, um das problematische Element zu finden:\n",
    "        for sample_idx, sample in enumerate(all_data):\n",
    "            try:\n",
    "                np.array(sample, dtype=float)\n",
    "            except ValueError:\n",
    "                print(f\"Problem beim Konvertieren des Samples an Index {sample_idx} in all_data: {sample}\")\n",
    "                # Finde heraus, aus welcher Originaldatei dieses Sample kam (erfordert mehr Tracking, wenn mehrere Dateien erfolgreich waren)\n",
    "                break\n",
    "        # Hier könntest du entscheiden, das Notebook zu stoppen\n",
    "        # raise ve\n",
    "    except Exception as e_np:\n",
    "        print(f\"Ein anderer FEHLER bei der NumPy-Konvertierung: {e_np}\")\n",
    "        # raise e_np\n",
    "\n",
    "# Stelle sicher, dass die Variablen für die nächste Zelle definiert sind, auch wenn sie leer sind,\n",
    "# um Folgefehler durch nicht definierte Variablen zu vermeiden, falls das Laden komplett scheitert.\n",
    "if 'all_data' not in locals() or not isinstance(all_data, np.ndarray) or all_data.size == 0:\n",
    "    print(\"WARNUNG: `all_data` ist nach der Konvertierung leer oder kein NumPy-Array. Initialisiere als leeres Array.\")\n",
    "    all_data = np.empty((0,0)) # Dimensionen ggf. anpassen oder spezifischer Fehler\n",
    "if 'all_target' not in locals() or not isinstance(all_target, np.ndarray) or all_target.size == 0:\n",
    "    print(\"WARNUNG: `all_target` ist nach der Konvertierung leer oder kein NumPy-Array. Initialisiere als leeres Array.\")\n",
    "    all_target = np.empty((0,))\n",
    "\n",
    "# Gib die finalen Längen aus\n",
    "print(f\"Länge von all_data (sollte NumPy sein): {len(all_data) if isinstance(all_data, np.ndarray) else 'Nicht NumPy oder leer'}\")\n",
    "print(f\"Länge von all_target (sollte NumPy sein): {len(all_target) if isinstance(all_target, np.ndarray) else 'Nicht NumPy oder leer'}\")"
   ]
  },
  {
   "cell_type": "code",
   "execution_count": 5,
   "metadata": {
    "collapsed": false,
    "jupyter": {
     "outputs_hidden": false
    }
   },
   "outputs": [
    {
     "name": "stdout",
     "output_type": "stream",
     "text": [
      "Länge von all_data vor Permutation: 222\n",
      "Trainingsdaten erstellt: X_train shape (155, 10), y_train shape (155,)\n",
      "Testdaten erstellt: X_test shape (67, 10), y_test shape (67,)\n"
     ]
    }
   ],
   "source": [
    "# In der Zelle, die mit \"# shuffule data\" beginnt:\n",
    "\n",
    "# Die print-Anweisungen ggf. an Python 3 anpassen, falls nicht schon geschehen\n",
    "print(f\"Länge von all_data vor Permutation: {len(all_data)}\")\n",
    "if len(all_data) == 0: # oder all_data.size == 0, wenn es sicher ein np.array ist\n",
    "    print(\"WARNUNG: all_data ist leer. Training und Testsets werden ebenfalls leer sein.\")\n",
    "    # Setze Trainings- und Testdaten auf leere Arrays, um Fehler zu vermeiden\n",
    "    # und um die Struktur für scikit-learn zu haben (shape (0, num_features))\n",
    "    # Wir kennen die Anzahl der Features hier noch nicht sicher, wenn nichts geladen wurde.\n",
    "    # Setze eine Standard-Feature-Anzahl, wenn du sie kennst (z.B. 10 laut Beschreibung)\n",
    "    num_features_expected = 10 \n",
    "    X_train = np.empty((0, num_features_expected))\n",
    "    y_train = np.empty((0,))\n",
    "    X_test = np.empty((0, num_features_expected))\n",
    "    y_test = np.empty((0,))\n",
    "    \n",
    "    # Gebe aus, dass die Sets leer sind.\n",
    "    print(\"X_train, y_train, X_test, y_test wurden als leere Arrays initialisiert.\")\n",
    "\n",
    "else:\n",
    "    permutation = np.random.permutation(len(all_data))\n",
    "    n_training_data = int(len(all_data) * 0.7)\n",
    "\n",
    "    training_indices = permutation[:n_training_data]\n",
    "    test_indices = permutation[n_training_data:]\n",
    "\n",
    "    # Stelle sicher, dass all_data ein NumPy-Array ist für diese Art der Indizierung\n",
    "    if not isinstance(all_data, np.ndarray):\n",
    "        print(\"FEHLER: all_data ist keine NumPy-Array vor der Indizierung. Konvertierung fehlgeschlagen.\")\n",
    "        # Fallback, um TypeError zu vermeiden, aber das Training wird nicht funktionieren\n",
    "        num_features_expected = 10 # Annahme\n",
    "        X_train = np.empty((0, num_features_expected)) \n",
    "        y_train = np.empty((0,))\n",
    "        X_test = np.empty((0, num_features_expected))\n",
    "        y_test = np.empty((0,))\n",
    "    else:\n",
    "        X_train = all_data[training_indices]\n",
    "        y_train = all_target[training_indices]\n",
    "\n",
    "        X_test = all_data[test_indices]\n",
    "        y_test = all_target[test_indices]\n",
    "        print(f\"Trainingsdaten erstellt: X_train shape {X_train.shape}, y_train shape {y_train.shape}\")\n",
    "        print(f\"Testdaten erstellt: X_test shape {X_test.shape}, y_test shape {y_test.shape}\")"
   ]
  },
  {
   "cell_type": "markdown",
   "metadata": {},
   "source": [
    "## 3. Learn on training data\n",
    "\n",
    "In scikit-learn, an estimator for classification is a Python object that implements the methods fit(X, y) and predict(T). An example of an estimator is the class sklearn.svm.SVC that implements support vector classification."
   ]
  },
  {
   "cell_type": "code",
   "execution_count": 6,
   "metadata": {
    "collapsed": false,
    "jupyter": {
     "outputs_hidden": false
    }
   },
   "outputs": [],
   "source": [
    "clf = svm.SVC(gamma=0.001, C=100.)"
   ]
  },
  {
   "cell_type": "markdown",
   "metadata": {},
   "source": [
    "### learning"
   ]
  },
  {
   "cell_type": "code",
   "execution_count": 7,
   "metadata": {
    "collapsed": false,
    "jupyter": {
     "outputs_hidden": false
    }
   },
   "outputs": [
    {
     "data": {
      "text/html": [
       "<style>#sk-container-id-1 {\n",
       "  /* Definition of color scheme common for light and dark mode */\n",
       "  --sklearn-color-text: black;\n",
       "  --sklearn-color-line: gray;\n",
       "  /* Definition of color scheme for unfitted estimators */\n",
       "  --sklearn-color-unfitted-level-0: #fff5e6;\n",
       "  --sklearn-color-unfitted-level-1: #f6e4d2;\n",
       "  --sklearn-color-unfitted-level-2: #ffe0b3;\n",
       "  --sklearn-color-unfitted-level-3: chocolate;\n",
       "  /* Definition of color scheme for fitted estimators */\n",
       "  --sklearn-color-fitted-level-0: #f0f8ff;\n",
       "  --sklearn-color-fitted-level-1: #d4ebff;\n",
       "  --sklearn-color-fitted-level-2: #b3dbfd;\n",
       "  --sklearn-color-fitted-level-3: cornflowerblue;\n",
       "\n",
       "  /* Specific color for light theme */\n",
       "  --sklearn-color-text-on-default-background: var(--sg-text-color, var(--theme-code-foreground, var(--jp-content-font-color1, black)));\n",
       "  --sklearn-color-background: var(--sg-background-color, var(--theme-background, var(--jp-layout-color0, white)));\n",
       "  --sklearn-color-border-box: var(--sg-text-color, var(--theme-code-foreground, var(--jp-content-font-color1, black)));\n",
       "  --sklearn-color-icon: #696969;\n",
       "\n",
       "  @media (prefers-color-scheme: dark) {\n",
       "    /* Redefinition of color scheme for dark theme */\n",
       "    --sklearn-color-text-on-default-background: var(--sg-text-color, var(--theme-code-foreground, var(--jp-content-font-color1, white)));\n",
       "    --sklearn-color-background: var(--sg-background-color, var(--theme-background, var(--jp-layout-color0, #111)));\n",
       "    --sklearn-color-border-box: var(--sg-text-color, var(--theme-code-foreground, var(--jp-content-font-color1, white)));\n",
       "    --sklearn-color-icon: #878787;\n",
       "  }\n",
       "}\n",
       "\n",
       "#sk-container-id-1 {\n",
       "  color: var(--sklearn-color-text);\n",
       "}\n",
       "\n",
       "#sk-container-id-1 pre {\n",
       "  padding: 0;\n",
       "}\n",
       "\n",
       "#sk-container-id-1 input.sk-hidden--visually {\n",
       "  border: 0;\n",
       "  clip: rect(1px 1px 1px 1px);\n",
       "  clip: rect(1px, 1px, 1px, 1px);\n",
       "  height: 1px;\n",
       "  margin: -1px;\n",
       "  overflow: hidden;\n",
       "  padding: 0;\n",
       "  position: absolute;\n",
       "  width: 1px;\n",
       "}\n",
       "\n",
       "#sk-container-id-1 div.sk-dashed-wrapped {\n",
       "  border: 1px dashed var(--sklearn-color-line);\n",
       "  margin: 0 0.4em 0.5em 0.4em;\n",
       "  box-sizing: border-box;\n",
       "  padding-bottom: 0.4em;\n",
       "  background-color: var(--sklearn-color-background);\n",
       "}\n",
       "\n",
       "#sk-container-id-1 div.sk-container {\n",
       "  /* jupyter's `normalize.less` sets `[hidden] { display: none; }`\n",
       "     but bootstrap.min.css set `[hidden] { display: none !important; }`\n",
       "     so we also need the `!important` here to be able to override the\n",
       "     default hidden behavior on the sphinx rendered scikit-learn.org.\n",
       "     See: https://github.com/scikit-learn/scikit-learn/issues/21755 */\n",
       "  display: inline-block !important;\n",
       "  position: relative;\n",
       "}\n",
       "\n",
       "#sk-container-id-1 div.sk-text-repr-fallback {\n",
       "  display: none;\n",
       "}\n",
       "\n",
       "div.sk-parallel-item,\n",
       "div.sk-serial,\n",
       "div.sk-item {\n",
       "  /* draw centered vertical line to link estimators */\n",
       "  background-image: linear-gradient(var(--sklearn-color-text-on-default-background), var(--sklearn-color-text-on-default-background));\n",
       "  background-size: 2px 100%;\n",
       "  background-repeat: no-repeat;\n",
       "  background-position: center center;\n",
       "}\n",
       "\n",
       "/* Parallel-specific style estimator block */\n",
       "\n",
       "#sk-container-id-1 div.sk-parallel-item::after {\n",
       "  content: \"\";\n",
       "  width: 100%;\n",
       "  border-bottom: 2px solid var(--sklearn-color-text-on-default-background);\n",
       "  flex-grow: 1;\n",
       "}\n",
       "\n",
       "#sk-container-id-1 div.sk-parallel {\n",
       "  display: flex;\n",
       "  align-items: stretch;\n",
       "  justify-content: center;\n",
       "  background-color: var(--sklearn-color-background);\n",
       "  position: relative;\n",
       "}\n",
       "\n",
       "#sk-container-id-1 div.sk-parallel-item {\n",
       "  display: flex;\n",
       "  flex-direction: column;\n",
       "}\n",
       "\n",
       "#sk-container-id-1 div.sk-parallel-item:first-child::after {\n",
       "  align-self: flex-end;\n",
       "  width: 50%;\n",
       "}\n",
       "\n",
       "#sk-container-id-1 div.sk-parallel-item:last-child::after {\n",
       "  align-self: flex-start;\n",
       "  width: 50%;\n",
       "}\n",
       "\n",
       "#sk-container-id-1 div.sk-parallel-item:only-child::after {\n",
       "  width: 0;\n",
       "}\n",
       "\n",
       "/* Serial-specific style estimator block */\n",
       "\n",
       "#sk-container-id-1 div.sk-serial {\n",
       "  display: flex;\n",
       "  flex-direction: column;\n",
       "  align-items: center;\n",
       "  background-color: var(--sklearn-color-background);\n",
       "  padding-right: 1em;\n",
       "  padding-left: 1em;\n",
       "}\n",
       "\n",
       "\n",
       "/* Toggleable style: style used for estimator/Pipeline/ColumnTransformer box that is\n",
       "clickable and can be expanded/collapsed.\n",
       "- Pipeline and ColumnTransformer use this feature and define the default style\n",
       "- Estimators will overwrite some part of the style using the `sk-estimator` class\n",
       "*/\n",
       "\n",
       "/* Pipeline and ColumnTransformer style (default) */\n",
       "\n",
       "#sk-container-id-1 div.sk-toggleable {\n",
       "  /* Default theme specific background. It is overwritten whether we have a\n",
       "  specific estimator or a Pipeline/ColumnTransformer */\n",
       "  background-color: var(--sklearn-color-background);\n",
       "}\n",
       "\n",
       "/* Toggleable label */\n",
       "#sk-container-id-1 label.sk-toggleable__label {\n",
       "  cursor: pointer;\n",
       "  display: block;\n",
       "  width: 100%;\n",
       "  margin-bottom: 0;\n",
       "  padding: 0.5em;\n",
       "  box-sizing: border-box;\n",
       "  text-align: center;\n",
       "}\n",
       "\n",
       "#sk-container-id-1 label.sk-toggleable__label-arrow:before {\n",
       "  /* Arrow on the left of the label */\n",
       "  content: \"▸\";\n",
       "  float: left;\n",
       "  margin-right: 0.25em;\n",
       "  color: var(--sklearn-color-icon);\n",
       "}\n",
       "\n",
       "#sk-container-id-1 label.sk-toggleable__label-arrow:hover:before {\n",
       "  color: var(--sklearn-color-text);\n",
       "}\n",
       "\n",
       "/* Toggleable content - dropdown */\n",
       "\n",
       "#sk-container-id-1 div.sk-toggleable__content {\n",
       "  max-height: 0;\n",
       "  max-width: 0;\n",
       "  overflow: hidden;\n",
       "  text-align: left;\n",
       "  /* unfitted */\n",
       "  background-color: var(--sklearn-color-unfitted-level-0);\n",
       "}\n",
       "\n",
       "#sk-container-id-1 div.sk-toggleable__content.fitted {\n",
       "  /* fitted */\n",
       "  background-color: var(--sklearn-color-fitted-level-0);\n",
       "}\n",
       "\n",
       "#sk-container-id-1 div.sk-toggleable__content pre {\n",
       "  margin: 0.2em;\n",
       "  border-radius: 0.25em;\n",
       "  color: var(--sklearn-color-text);\n",
       "  /* unfitted */\n",
       "  background-color: var(--sklearn-color-unfitted-level-0);\n",
       "}\n",
       "\n",
       "#sk-container-id-1 div.sk-toggleable__content.fitted pre {\n",
       "  /* unfitted */\n",
       "  background-color: var(--sklearn-color-fitted-level-0);\n",
       "}\n",
       "\n",
       "#sk-container-id-1 input.sk-toggleable__control:checked~div.sk-toggleable__content {\n",
       "  /* Expand drop-down */\n",
       "  max-height: 200px;\n",
       "  max-width: 100%;\n",
       "  overflow: auto;\n",
       "}\n",
       "\n",
       "#sk-container-id-1 input.sk-toggleable__control:checked~label.sk-toggleable__label-arrow:before {\n",
       "  content: \"▾\";\n",
       "}\n",
       "\n",
       "/* Pipeline/ColumnTransformer-specific style */\n",
       "\n",
       "#sk-container-id-1 div.sk-label input.sk-toggleable__control:checked~label.sk-toggleable__label {\n",
       "  color: var(--sklearn-color-text);\n",
       "  background-color: var(--sklearn-color-unfitted-level-2);\n",
       "}\n",
       "\n",
       "#sk-container-id-1 div.sk-label.fitted input.sk-toggleable__control:checked~label.sk-toggleable__label {\n",
       "  background-color: var(--sklearn-color-fitted-level-2);\n",
       "}\n",
       "\n",
       "/* Estimator-specific style */\n",
       "\n",
       "/* Colorize estimator box */\n",
       "#sk-container-id-1 div.sk-estimator input.sk-toggleable__control:checked~label.sk-toggleable__label {\n",
       "  /* unfitted */\n",
       "  background-color: var(--sklearn-color-unfitted-level-2);\n",
       "}\n",
       "\n",
       "#sk-container-id-1 div.sk-estimator.fitted input.sk-toggleable__control:checked~label.sk-toggleable__label {\n",
       "  /* fitted */\n",
       "  background-color: var(--sklearn-color-fitted-level-2);\n",
       "}\n",
       "\n",
       "#sk-container-id-1 div.sk-label label.sk-toggleable__label,\n",
       "#sk-container-id-1 div.sk-label label {\n",
       "  /* The background is the default theme color */\n",
       "  color: var(--sklearn-color-text-on-default-background);\n",
       "}\n",
       "\n",
       "/* On hover, darken the color of the background */\n",
       "#sk-container-id-1 div.sk-label:hover label.sk-toggleable__label {\n",
       "  color: var(--sklearn-color-text);\n",
       "  background-color: var(--sklearn-color-unfitted-level-2);\n",
       "}\n",
       "\n",
       "/* Label box, darken color on hover, fitted */\n",
       "#sk-container-id-1 div.sk-label.fitted:hover label.sk-toggleable__label.fitted {\n",
       "  color: var(--sklearn-color-text);\n",
       "  background-color: var(--sklearn-color-fitted-level-2);\n",
       "}\n",
       "\n",
       "/* Estimator label */\n",
       "\n",
       "#sk-container-id-1 div.sk-label label {\n",
       "  font-family: monospace;\n",
       "  font-weight: bold;\n",
       "  display: inline-block;\n",
       "  line-height: 1.2em;\n",
       "}\n",
       "\n",
       "#sk-container-id-1 div.sk-label-container {\n",
       "  text-align: center;\n",
       "}\n",
       "\n",
       "/* Estimator-specific */\n",
       "#sk-container-id-1 div.sk-estimator {\n",
       "  font-family: monospace;\n",
       "  border: 1px dotted var(--sklearn-color-border-box);\n",
       "  border-radius: 0.25em;\n",
       "  box-sizing: border-box;\n",
       "  margin-bottom: 0.5em;\n",
       "  /* unfitted */\n",
       "  background-color: var(--sklearn-color-unfitted-level-0);\n",
       "}\n",
       "\n",
       "#sk-container-id-1 div.sk-estimator.fitted {\n",
       "  /* fitted */\n",
       "  background-color: var(--sklearn-color-fitted-level-0);\n",
       "}\n",
       "\n",
       "/* on hover */\n",
       "#sk-container-id-1 div.sk-estimator:hover {\n",
       "  /* unfitted */\n",
       "  background-color: var(--sklearn-color-unfitted-level-2);\n",
       "}\n",
       "\n",
       "#sk-container-id-1 div.sk-estimator.fitted:hover {\n",
       "  /* fitted */\n",
       "  background-color: var(--sklearn-color-fitted-level-2);\n",
       "}\n",
       "\n",
       "/* Specification for estimator info (e.g. \"i\" and \"?\") */\n",
       "\n",
       "/* Common style for \"i\" and \"?\" */\n",
       "\n",
       ".sk-estimator-doc-link,\n",
       "a:link.sk-estimator-doc-link,\n",
       "a:visited.sk-estimator-doc-link {\n",
       "  float: right;\n",
       "  font-size: smaller;\n",
       "  line-height: 1em;\n",
       "  font-family: monospace;\n",
       "  background-color: var(--sklearn-color-background);\n",
       "  border-radius: 1em;\n",
       "  height: 1em;\n",
       "  width: 1em;\n",
       "  text-decoration: none !important;\n",
       "  margin-left: 1ex;\n",
       "  /* unfitted */\n",
       "  border: var(--sklearn-color-unfitted-level-1) 1pt solid;\n",
       "  color: var(--sklearn-color-unfitted-level-1);\n",
       "}\n",
       "\n",
       ".sk-estimator-doc-link.fitted,\n",
       "a:link.sk-estimator-doc-link.fitted,\n",
       "a:visited.sk-estimator-doc-link.fitted {\n",
       "  /* fitted */\n",
       "  border: var(--sklearn-color-fitted-level-1) 1pt solid;\n",
       "  color: var(--sklearn-color-fitted-level-1);\n",
       "}\n",
       "\n",
       "/* On hover */\n",
       "div.sk-estimator:hover .sk-estimator-doc-link:hover,\n",
       ".sk-estimator-doc-link:hover,\n",
       "div.sk-label-container:hover .sk-estimator-doc-link:hover,\n",
       ".sk-estimator-doc-link:hover {\n",
       "  /* unfitted */\n",
       "  background-color: var(--sklearn-color-unfitted-level-3);\n",
       "  color: var(--sklearn-color-background);\n",
       "  text-decoration: none;\n",
       "}\n",
       "\n",
       "div.sk-estimator.fitted:hover .sk-estimator-doc-link.fitted:hover,\n",
       ".sk-estimator-doc-link.fitted:hover,\n",
       "div.sk-label-container:hover .sk-estimator-doc-link.fitted:hover,\n",
       ".sk-estimator-doc-link.fitted:hover {\n",
       "  /* fitted */\n",
       "  background-color: var(--sklearn-color-fitted-level-3);\n",
       "  color: var(--sklearn-color-background);\n",
       "  text-decoration: none;\n",
       "}\n",
       "\n",
       "/* Span, style for the box shown on hovering the info icon */\n",
       ".sk-estimator-doc-link span {\n",
       "  display: none;\n",
       "  z-index: 9999;\n",
       "  position: relative;\n",
       "  font-weight: normal;\n",
       "  right: .2ex;\n",
       "  padding: .5ex;\n",
       "  margin: .5ex;\n",
       "  width: min-content;\n",
       "  min-width: 20ex;\n",
       "  max-width: 50ex;\n",
       "  color: var(--sklearn-color-text);\n",
       "  box-shadow: 2pt 2pt 4pt #999;\n",
       "  /* unfitted */\n",
       "  background: var(--sklearn-color-unfitted-level-0);\n",
       "  border: .5pt solid var(--sklearn-color-unfitted-level-3);\n",
       "}\n",
       "\n",
       ".sk-estimator-doc-link.fitted span {\n",
       "  /* fitted */\n",
       "  background: var(--sklearn-color-fitted-level-0);\n",
       "  border: var(--sklearn-color-fitted-level-3);\n",
       "}\n",
       "\n",
       ".sk-estimator-doc-link:hover span {\n",
       "  display: block;\n",
       "}\n",
       "\n",
       "/* \"?\"-specific style due to the `<a>` HTML tag */\n",
       "\n",
       "#sk-container-id-1 a.estimator_doc_link {\n",
       "  float: right;\n",
       "  font-size: 1rem;\n",
       "  line-height: 1em;\n",
       "  font-family: monospace;\n",
       "  background-color: var(--sklearn-color-background);\n",
       "  border-radius: 1rem;\n",
       "  height: 1rem;\n",
       "  width: 1rem;\n",
       "  text-decoration: none;\n",
       "  /* unfitted */\n",
       "  color: var(--sklearn-color-unfitted-level-1);\n",
       "  border: var(--sklearn-color-unfitted-level-1) 1pt solid;\n",
       "}\n",
       "\n",
       "#sk-container-id-1 a.estimator_doc_link.fitted {\n",
       "  /* fitted */\n",
       "  border: var(--sklearn-color-fitted-level-1) 1pt solid;\n",
       "  color: var(--sklearn-color-fitted-level-1);\n",
       "}\n",
       "\n",
       "/* On hover */\n",
       "#sk-container-id-1 a.estimator_doc_link:hover {\n",
       "  /* unfitted */\n",
       "  background-color: var(--sklearn-color-unfitted-level-3);\n",
       "  color: var(--sklearn-color-background);\n",
       "  text-decoration: none;\n",
       "}\n",
       "\n",
       "#sk-container-id-1 a.estimator_doc_link.fitted:hover {\n",
       "  /* fitted */\n",
       "  background-color: var(--sklearn-color-fitted-level-3);\n",
       "}\n",
       "</style><div id=\"sk-container-id-1\" class=\"sk-top-container\"><div class=\"sk-text-repr-fallback\"><pre>SVC(C=100.0, gamma=0.001)</pre><b>In a Jupyter environment, please rerun this cell to show the HTML representation or trust the notebook. <br />On GitHub, the HTML representation is unable to render, please try loading this page with nbviewer.org.</b></div><div class=\"sk-container\" hidden><div class=\"sk-item\"><div class=\"sk-estimator fitted sk-toggleable\"><input class=\"sk-toggleable__control sk-hidden--visually\" id=\"sk-estimator-id-1\" type=\"checkbox\" checked><label for=\"sk-estimator-id-1\" class=\"sk-toggleable__label fitted sk-toggleable__label-arrow fitted\">&nbsp;&nbsp;SVC<a class=\"sk-estimator-doc-link fitted\" rel=\"noreferrer\" target=\"_blank\" href=\"https://scikit-learn.org/1.5/modules/generated/sklearn.svm.SVC.html\">?<span>Documentation for SVC</span></a><span class=\"sk-estimator-doc-link fitted\">i<span>Fitted</span></span></label><div class=\"sk-toggleable__content fitted\"><pre>SVC(C=100.0, gamma=0.001)</pre></div> </div></div></div></div>"
      ],
      "text/plain": [
       "SVC(C=100.0, gamma=0.001)"
      ]
     },
     "execution_count": 7,
     "metadata": {},
     "output_type": "execute_result"
    }
   ],
   "source": [
    "clf.fit(X_train, y_train)"
   ]
  },
  {
   "cell_type": "markdown",
   "metadata": {},
   "source": [
    "### predicting"
   ]
  },
  {
   "cell_type": "code",
   "execution_count": 10,
   "metadata": {
    "collapsed": false,
    "jupyter": {
     "outputs_hidden": false
    }
   },
   "outputs": [
    {
     "data": {
      "text/plain": [
       "(array([10]), 10)"
      ]
     },
     "execution_count": 10,
     "metadata": {},
     "output_type": "execute_result"
    }
   ],
   "source": [
    "clf.predict(all_data[-1].reshape(1, -1)), all_target[-1]"
   ]
  },
  {
   "cell_type": "code",
   "execution_count": 11,
   "metadata": {
    "collapsed": false,
    "jupyter": {
     "outputs_hidden": false
    }
   },
   "outputs": [],
   "source": [
    "def evaluate(expected, predicted):\n",
    "    print(\"Classification report:\\n%s\\n\" % metrics.classification_report(expected, predicted))\n",
    "\n",
    "    print(\"Confusion matrix:\\n%s\" % metrics.confusion_matrix(expected, predicted))"
   ]
  },
  {
   "cell_type": "code",
   "execution_count": 12,
   "metadata": {
    "collapsed": false,
    "jupyter": {
     "outputs_hidden": false
    }
   },
   "outputs": [
    {
     "name": "stdout",
     "output_type": "stream",
     "text": [
      "Classification report:\n",
      "              precision    recall  f1-score   support\n",
      "\n",
      "           0       1.00      1.00      1.00        16\n",
      "           1       1.00      1.00      1.00        10\n",
      "           2       0.95      1.00      0.98        21\n",
      "           3       1.00      1.00      1.00         7\n",
      "           4       1.00      1.00      1.00         8\n",
      "           5       1.00      1.00      1.00         7\n",
      "           6       1.00      1.00      1.00        16\n",
      "           7       1.00      0.86      0.92         7\n",
      "           8       1.00      1.00      1.00        17\n",
      "           9       1.00      1.00      1.00         6\n",
      "          10       1.00      1.00      1.00        40\n",
      "\n",
      "    accuracy                           0.99       155\n",
      "   macro avg       1.00      0.99      0.99       155\n",
      "weighted avg       0.99      0.99      0.99       155\n",
      "\n",
      "\n",
      "Confusion matrix:\n",
      "[[16  0  0  0  0  0  0  0  0  0  0]\n",
      " [ 0 10  0  0  0  0  0  0  0  0  0]\n",
      " [ 0  0 21  0  0  0  0  0  0  0  0]\n",
      " [ 0  0  0  7  0  0  0  0  0  0  0]\n",
      " [ 0  0  0  0  8  0  0  0  0  0  0]\n",
      " [ 0  0  0  0  0  7  0  0  0  0  0]\n",
      " [ 0  0  0  0  0  0 16  0  0  0  0]\n",
      " [ 0  0  1  0  0  0  0  6  0  0  0]\n",
      " [ 0  0  0  0  0  0  0  0 17  0  0]\n",
      " [ 0  0  0  0  0  0  0  0  0  6  0]\n",
      " [ 0  0  0  0  0  0  0  0  0  0 40]]\n"
     ]
    }
   ],
   "source": [
    "expected = []\n",
    "predicted = []\n",
    "\n",
    "predicted_on_train = clf.predict(X_train)\n",
    "\n",
    "# fülle die listen für die evaluierungsfunktion\n",
    "expected.extend(list(y_train))       # die tatsächlichen trainings-labels\n",
    "predicted.extend(list(predicted_on_train)) # die vorhergesagten labels für die trainingsdaten\n",
    "\n",
    "evaluate(expected, predicted)\n"
   ]
  },
  {
   "cell_type": "markdown",
   "metadata": {},
   "source": [
    "## 4. Evaluate on the test data"
   ]
  },
  {
   "cell_type": "code",
   "execution_count": 13,
   "metadata": {
    "collapsed": false,
    "jupyter": {
     "outputs_hidden": false
    }
   },
   "outputs": [
    {
     "name": "stdout",
     "output_type": "stream",
     "text": [
      "Classification report:\n",
      "              precision    recall  f1-score   support\n",
      "\n",
      "           0       1.00      1.00      1.00         7\n",
      "           1       1.00      1.00      1.00         9\n",
      "           2       1.00      1.00      1.00         9\n",
      "           3       1.00      1.00      1.00         3\n",
      "           4       1.00      1.00      1.00         2\n",
      "           5       1.00      1.00      1.00         3\n",
      "           6       1.00      1.00      1.00         4\n",
      "           7       1.00      1.00      1.00         4\n",
      "           8       1.00      1.00      1.00         9\n",
      "           9       1.00      1.00      1.00         5\n",
      "          10       1.00      1.00      1.00        12\n",
      "\n",
      "    accuracy                           1.00        67\n",
      "   macro avg       1.00      1.00      1.00        67\n",
      "weighted avg       1.00      1.00      1.00        67\n",
      "\n",
      "\n",
      "Confusion matrix:\n",
      "[[ 7  0  0  0  0  0  0  0  0  0  0]\n",
      " [ 0  9  0  0  0  0  0  0  0  0  0]\n",
      " [ 0  0  9  0  0  0  0  0  0  0  0]\n",
      " [ 0  0  0  3  0  0  0  0  0  0  0]\n",
      " [ 0  0  0  0  2  0  0  0  0  0  0]\n",
      " [ 0  0  0  0  0  3  0  0  0  0  0]\n",
      " [ 0  0  0  0  0  0  4  0  0  0  0]\n",
      " [ 0  0  0  0  0  0  0  4  0  0  0]\n",
      " [ 0  0  0  0  0  0  0  0  9  0  0]\n",
      " [ 0  0  0  0  0  0  0  0  0  5  0]\n",
      " [ 0  0  0  0  0  0  0  0  0  0 12]]\n"
     ]
    }
   ],
   "source": [
    "expected = []\n",
    "predicted = []\n",
    "\n",
    "predicted_on_test = clf.predict(X_test)\n",
    "\n",
    "# fülle die listen für die evaluierungsfunktion\n",
    "expected.extend(list(y_test))       # die tatsächlichen test-labels\n",
    "predicted.extend(list(predicted_on_test)) # die vorhergesagten labels für die testdaten\n",
    "\n",
    "evaluate(expected, predicted)\n"
   ]
  },
  {
   "cell_type": "markdown",
   "metadata": {},
   "source": [
    "## 5. Deploy to the real system\n",
    "\n",
    "We can simple use `pickle` module to serialize the trained classifier."
   ]
  },
  {
   "cell_type": "code",
   "execution_count": 14,
   "metadata": {
    "collapsed": false,
    "jupyter": {
     "outputs_hidden": false
    }
   },
   "outputs": [],
   "source": [
    "import pickle\n",
    "ROBOT_POSE_CLF = 'robot_pose.pkl'\n",
    "pickle.dump(clf, open(ROBOT_POSE_CLF, 'wb'))"
   ]
  },
  {
   "cell_type": "markdown",
   "metadata": {},
   "source": [
    "Then, in the application we can load the trained classifier again."
   ]
  },
  {
   "cell_type": "code",
   "execution_count": 17,
   "metadata": {
    "collapsed": false,
    "jupyter": {
     "outputs_hidden": false
    }
   },
   "outputs": [
    {
     "name": "stdout",
     "output_type": "stream",
     "text": [
      "Vorhersage mit geladenem clf2 für das letzte Sample: [10]\n",
      "Tatsächliches Ziel für das letzte Sample: 10\n"
     ]
    },
    {
     "data": {
      "text/plain": [
       "(array([10]), 10)"
      ]
     },
     "execution_count": 17,
     "metadata": {},
     "output_type": "execute_result"
    }
   ],
   "source": [
    "# Korrigierter Code für Zelle In[16]\n",
    "\n",
    "# Lade den Klassifikator im Binärmodus\n",
    "with open(ROBOT_POSE_CLF, 'rb') as f:\n",
    "    clf2 = pickle.load(f)\n",
    "\n",
    "# Wähle das letzte Sample aus all_data\n",
    "single_sample = all_data[-1]\n",
    "\n",
    "# Forme es in ein 2D-Array um (1 Zeile, n Spalten)\n",
    "single_sample_reshaped = single_sample.reshape(1, -1)\n",
    "\n",
    "# Mache die Vorhersage mit dem geladenen Klassifikator clf2\n",
    "prediction_on_single_sample_with_clf2 = clf2.predict(single_sample_reshaped)\n",
    "\n",
    "# Das tatsächliche Ziel für dieses Sample\n",
    "actual_target_for_single_sample = all_target[-1]\n",
    "\n",
    "# Gib die Vorhersage und das tatsächliche Ziel aus\n",
    "print(f\"Vorhersage mit geladenem clf2 für das letzte Sample: {prediction_on_single_sample_with_clf2}\")\n",
    "print(f\"Tatsächliches Ziel für das letzte Sample: {actual_target_for_single_sample}\")\n",
    "\n",
    "# Optional: Um die Ausgabe der Zelle direkt als Tupel (Vorhersage, Ziel) zu haben, wie im Original-Notebook oft:\n",
    "(prediction_on_single_sample_with_clf2, actual_target_for_single_sample)"
   ]
  },
  {
   "cell_type": "code",
   "execution_count": 2,
   "metadata": {},
   "outputs": [],
   "source": []
  },
  {
   "cell_type": "code",
   "execution_count": null,
   "metadata": {},
   "outputs": [],
   "source": []
  }
 ],
 "metadata": {
  "kernelspec": {
   "display_name": "Python 3 (ipykernel)",
   "language": "python",
   "name": "python3"
  },
  "language_info": {
   "codemirror_mode": {
    "name": "ipython",
    "version": 3
   },
   "file_extension": ".py",
   "mimetype": "text/x-python",
   "name": "python",
   "nbconvert_exporter": "python",
   "pygments_lexer": "ipython3",
   "version": "3.11.11"
  },
  "widgets": {
   "state": {},
   "version": "1.0.0"
  }
 },
 "nbformat": 4,
 "nbformat_minor": 4
}
